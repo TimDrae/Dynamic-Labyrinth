{
 "cells": [
  {
   "cell_type": "markdown",
   "id": "59c7a77486b22030",
   "metadata": {
    "collapsed": false
   },
   "source": [
    "# Dynamisches Labyrinth"
   ]
  },
  {
   "cell_type": "markdown",
   "id": "ab31de86360492a7",
   "metadata": {
    "collapsed": false
   },
   "source": [
    "## TODOS"
   ]
  },
  {
   "cell_type": "markdown",
   "id": "5a8cdae98f8dff63",
   "metadata": {
    "collapsed": false
   },
   "source": [
    "1.1 CSV einlesen"
   ]
  },
  {
   "cell_type": "code",
   "execution_count": 283,
   "id": "e975b0cef9bef6ae",
   "metadata": {
    "ExecuteTime": {
     "end_time": "2024-01-05T08:54:44.786091300Z",
     "start_time": "2024-01-05T08:54:44.750926400Z"
    },
    "collapsed": false
   },
   "outputs": [
    {
     "name": "stdout",
     "output_type": "stream",
     "text": [
      "[['2', '8', '0', '5'], ['1', '5', '8', '1'], ['0', '7', '7', '2'], ['6', '1', '9', '5'], ['4', '6', '1', '5'], ['2', '', '', '']]\n"
     ]
    }
   ],
   "source": [
    "import csv\n",
    "\n",
    "# Pfad zur CSV-Datei\n",
    "csv_datei_pfad = './data/Puzzle_middle_3.csv'\n",
    "\n",
    "# Liste zum Speichern der Daten\n",
    "spielfeld = []\n",
    "\n",
    "# CSV-Datei öffnen und Daten einlesen\n",
    "with open(csv_datei_pfad, 'r') as csv_datei:\n",
    "    csv_reader = csv.reader(csv_datei, delimiter=\";\")\n",
    "    \n",
    "    # Zeile für Zeile durch die CSV-Datei iterieren\n",
    "    for zeile in csv_reader:\n",
    "        spielfeld.append(zeile)\n",
    "\n",
    "# Die 'daten'-Liste enthält nun die Daten aus der CSV-Datei\n",
    "# daten[1] <- Spalte 1 mit Anführungszeichen\n",
    "# daten[1][0] <- Spalte 1, zweites Array immer mit Index 0\n",
    "# daten[1][0][2] <- Spalte 1, mit Index 2 gibt eine einzelene Zahl/Spielfeld\n",
    "print(spielfeld)"
   ]
  },
  {
   "cell_type": "markdown",
   "id": "ebbe660a6964b1e",
   "metadata": {
    "collapsed": false
   },
   "source": [
    "## 2. Spielsteine definieren"
   ]
  },
  {
   "cell_type": "markdown",
   "id": "0f7dbeae",
   "metadata": {},
   "source": [
    "Erklärung: Es gibt 10 verschiedene Spielsteine die angeben, in welche Richtung der Spieler sich bewegen und nicht bewegen kann. Dabei werden die verschiedenen Spielsteine in einer\n",
    "- Matrix von 0 - 9 dargestellt und\n",
    "- jeder Spielstein erhält zudem eine 2x2 Matrix der die möglichen Richtungen angibt. \n",
    "\n",
    "Dabei gilt folgendes: [ left, top, right, bottom] wobei eine 1 für eine Verbindung und eine 0 für keine Verbindung steht zum nächsten Feld steht. Als Beipsiel, [0, 0, 1, 1] steht für [-, -, right, bottom], also ist dieser Spielstein eine Ecke die eine Verbindung von unten nach rechts besitzt."
   ]
  },
  {
   "cell_type": "code",
   "execution_count": 284,
   "id": "065c8323",
   "metadata": {},
   "outputs": [],
   "source": [
    "# [ left, top, right, bottom]\n",
    "tile0 = [0, 0, 1, 1]\n",
    "tile1 = [1, 0, 0, 1]\n",
    "tile2 = [0, 1, 1, 0]\n",
    "tile3 = [1, 1, 0, 0]\n",
    "tile4 = [1, 0, 1, 1]\n",
    "tile5 = [1, 1, 0, 1]\n",
    "tile6 = [1, 1, 1, 0]\n",
    "tile7 = [0, 1, 1, 1]\n",
    "tile8 = [0, 1, 0, 1]\n",
    "tile9 = [1, 0, 1, 0]"
   ]
  },
  {
   "cell_type": "code",
   "execution_count": 285,
   "id": "d00ba3c3",
   "metadata": {},
   "outputs": [],
   "source": [
    "# Kodierung für das Spielfeld\n",
    "tiles = [tile0, tile1, tile2, tile3, tile4, tile5, tile6, tile7, tile8, tile9]"
   ]
  },
  {
   "cell_type": "markdown",
   "id": "b9bb576c",
   "metadata": {},
   "source": [
    "Grid Klasse"
   ]
  },
  {
   "cell_type": "code",
   "execution_count": 286,
   "id": "9fea51ab",
   "metadata": {},
   "outputs": [],
   "source": [
    "# überarbeitet\n",
    "class Grid:\n",
    "    def __init__(self, src, dst, matrix):\n",
    "        self.src = src\n",
    "        self.dst = dst\n",
    "        self.off_tile = int(matrix[-1][0])\n",
    "        self.rows = len(matrix)-1\n",
    "        self.cols = len(spielfeld[0]) if self.rows > 0 else 0 #self.cols = len(spielfeld[0][0].split(\";\")) if self.rows > 0 else 0\n",
    "        self.nodes = [(i, j) for i in range(self.rows) for j in range(self.cols)]\n",
    "        self.grid_values = [[0 for _ in range(self.cols)] for _ in range(self.rows)]\n",
    "\n",
    "        for i in range(self.rows):\n",
    "            for j in range(self.cols):\n",
    "                self.grid_values[i][j] = int(matrix[i][j])\n",
    "\n",
    "    def get_value(self, row, col):\n",
    "        if 0 <= row < self.rows and 0 <= col < self.cols:\n",
    "            return self.grid_values[row][col]\n",
    "        return None  # Wert außerhalb der Grenzen des Grids\n",
    "    \n",
    "    def set_value(self, row, col, new_value):\n",
    "        self.grid_values[row][col] = int(new_value)\n",
    "\n",
    "    def move_player_left(self, player_src):\n",
    "        row, col = player_src\n",
    "\n",
    "        if col == 0:\n",
    "            new_position = (row, self.cols - 1)  # Wrap around to the first column\n",
    "        else:\n",
    "            new_position = (row, (col - 1) % self.cols)  # Move to the next column within bounds\n",
    "\n",
    "        return new_position\n",
    "    \n",
    "    def move_row_left(self, row_index, new_tile):\n",
    "        row = self.grid_values[row_index]\n",
    "\n",
    "        moved_out = row[0]  # Store the value that will be moved out of the row\n",
    "\n",
    "        for i in range(1, self.cols):\n",
    "            self.set_value(row_index, i - 1, row[i])\n",
    "\n",
    "        self.set_value(row_index, self.cols - 1, new_tile)\n",
    "\n",
    "        return moved_out\n",
    "        \n",
    "    def move_player_right(self, player_src):\n",
    "        row, col = player_src\n",
    "\n",
    "        if col == self.cols - 1:\n",
    "            new_position = (row, 0)  # Wrap around to the first column\n",
    "        else:\n",
    "            new_position = (row, (col + 1) % self.cols)  # Move to the next column within bounds\n",
    "\n",
    "        return new_position\n",
    "    \n",
    "    def move_row_right(self, row_index, new_tile):\n",
    "        row = self.grid_values[row_index]\n",
    "\n",
    "        moved_out = row[-1]  # Store the value that will be moved out of the row\n",
    "\n",
    "        for i in range(self.cols - 1, 0, -1):\n",
    "            self.set_value(row_index, i, row[i-1])\n",
    "\n",
    "        self.set_value(row_index, 0, new_tile)\n",
    "\n",
    "        return moved_out\n",
    "\n",
    "    def get_nodes(self):\n",
    "        return self.nodes\n",
    "    \n",
    "    def get_adjacent(self, node):       \n",
    "        y, x = node\n",
    "        adjacent_nodes = []\n",
    "\n",
    "        # Horizontal Nachbarn\n",
    "        for dx in [-1, 1]:\n",
    "            new_x, new_y = x + dx, y\n",
    "            # Wenn im Grid dann\n",
    "            if 0 <= new_y < self.rows and 0 <= new_x < self.cols:\n",
    "                if dx == -1:\n",
    "                    possible_path_new_x = tiles[self.get_value(new_y, new_x)]\n",
    "                    possible_path_x = tiles[self.get_value(y, x)]\n",
    "\n",
    "                    # print(possible_path_new_x)\n",
    "                    # print(possible_path_x)\n",
    "\n",
    "                    if possible_path_new_x[2] == 1 and possible_path_x[0] == 1:                   \n",
    "                        adjacent_nodes.append((new_y, new_x))\n",
    "\n",
    "                if dx == 1:\n",
    "                    possible_path_new_x = tiles[self.get_value(new_y, new_x)]\n",
    "                    possible_path_x = tiles[self.get_value(y, x)]\n",
    "\n",
    "                    # print(possible_path_new_x)\n",
    "                    # print(possible_path_x)\n",
    "                    if possible_path_new_x[0] == 1 and possible_path_x[2] == 1: \n",
    "                        adjacent_nodes.append((new_y, new_x))\n",
    "\n",
    "        # Vertikal Nachbarn\n",
    "        for dy in [-1, 1]:\n",
    "            new_x, new_y = x, y + dy\n",
    "\n",
    "            # print(dy)\n",
    "            # print(new_y, new_x)\n",
    "            if 0 <= new_y < self.rows and 0 <= new_x <= self.cols:\n",
    "                if dy == -1:\n",
    "                    possible_path_new_y = tiles[self.get_value(new_y, new_x)]\n",
    "                    possible_path_y = tiles[self.get_value(y, x)]\n",
    "\n",
    "                    # print(\"-1 new\", possible_path_new_y)\n",
    "                    # print(\"-1 \", possible_path_y)\n",
    "\n",
    "                    if possible_path_new_y[3] == 1 and possible_path_y[1] == 1:\n",
    "                        adjacent_nodes.append((new_y, new_x))\n",
    "\n",
    "\n",
    "                if dy == 1:\n",
    "                    possible_path_new_y = tiles[self.get_value(new_y, new_x)]\n",
    "                    possible_path_y = tiles[self.get_value(y, x)]\n",
    "\n",
    "                    # print(\"1 new\", possible_path_new_y)\n",
    "                    # print(\"1 \", possible_path_y)\n",
    "                    # print(\"t:\", self.get_value(y, x))\n",
    "\n",
    "                    if possible_path_new_y[1] == 1 and possible_path_y[3] == 1:\n",
    "                        adjacent_nodes.append((new_y, new_x))\n",
    "                \n",
    "\n",
    "        return adjacent_nodes"
   ]
  },
  {
   "cell_type": "markdown",
   "id": "2d0800eb",
   "metadata": {},
   "source": [
    "## Spielfeld Grid initialiseren aus spielfeld csv"
   ]
  },
  {
   "cell_type": "code",
   "execution_count": 287,
   "id": "675045a0",
   "metadata": {},
   "outputs": [
    {
     "name": "stdout",
     "output_type": "stream",
     "text": [
      "[(0, 0), (0, 1), (0, 2), (0, 3), (1, 0), (1, 1), (1, 2), (1, 3), (2, 0), (2, 1), (2, 2), (2, 3), (3, 0), (3, 1), (3, 2), (3, 3), (4, 0), (4, 1), (4, 2), (4, 3)]\n",
      "Nachbarn:  [(0, 2), (2, 2)]\n"
     ]
    }
   ],
   "source": [
    "spielfeld_grid = Grid((4,0), (0,3), spielfeld)\n",
    "print(spielfeld_grid.get_nodes())\n",
    "print(\"Nachbarn: \", spielfeld_grid.get_adjacent((1,2)))"
   ]
  },
  {
   "cell_type": "markdown",
   "id": "057f8877",
   "metadata": {},
   "source": [
    "## 3. A* anhand lösbarem Beispiel"
   ]
  },
  {
   "cell_type": "markdown",
   "id": "5cd65268",
   "metadata": {},
   "source": [
    "Some text"
   ]
  },
  {
   "cell_type": "code",
   "execution_count": 288,
   "id": "8845d577",
   "metadata": {},
   "outputs": [],
   "source": [
    "# Replace this with your actual heuristic function\n",
    "def heuristic_cost_estimate(current, goal, grid):\n",
    "    # Example: Man\n",
    "    x1, y1 = current\n",
    "    x2, y2 = goal\n",
    "\n",
    "    # Wert aus dem Grid mit x1, x2\n",
    "    grid_tile_number = grid.get_value(x1,y1)\n",
    "    \n",
    "    # Tile bestimmen durch Wert aus Grid\n",
    "    grid_tile_value = tiles[grid_tile_number]\n",
    "    # Wenn Tile mit Weg nach oben +0 (Wird besser gewichtet)\n",
    "    if grid_tile_value[1]:\n",
    "        return abs(x2 - x1) + abs(y2 - y1)\n",
    "        #return (((x2 - x1) ** 2 + (y2 - y1) ** 2) ** 0.5)\n",
    "    \n",
    "    # Wenn Tile nicht mit Weg nach oben +2\n",
    "    return abs(x2 - x1) + abs(y2 - y1) + 2\n",
    "    #return ((x2 - x1) ** 2 + (y2 - y1) ** 2) ** 0.5 + 1"
   ]
  },
  {
   "cell_type": "markdown",
   "id": "50f5d92c",
   "metadata": {},
   "source": [
    "Zwei verschiedene Möglichkeiten das Grid zu verschieben (Also ein Spielstein von außen ins spielfeld schieben):\n",
    "- Erstens durch Regression \n",
    "- Zweitens durch verschachtelte While Schleife"
   ]
  },
  {
   "cell_type": "code",
   "execution_count": 289,
   "id": "630ca571",
   "metadata": {},
   "outputs": [],
   "source": [
    "def a_star(grid):\n",
    "    nodes = grid.get_nodes()\n",
    "    closed_set = []\n",
    "    open_set = [grid.src]\n",
    "    prev = {node: None for node in nodes}\n",
    "    g_score = {node: float(\"inf\") for node in nodes}\n",
    "    src = grid.src # das ist eigentlich unser Spieler\n",
    "    dst = grid.dst\n",
    "    g_score[src] = 0\n",
    "    f_score = {node: float(\"inf\") for node in nodes}\n",
    "    f_score[src] = heuristic_cost_estimate(src, dst, grid)\n",
    "    \n",
    "    best_node_cost = f_score[src]\n",
    "    best_node = grid.src\n",
    "\n",
    "    # best_node ist auch grid.src\n",
    "    while best_node != dst:\n",
    "        # V1 um die while nochmal eine while sollange unser bestnode nicht u\n",
    "        while open_set:\n",
    "            u = min(open_set, key=f_score.get)\n",
    "            #print(\"Node A*: \", u)\n",
    "            open_set.remove(u)\n",
    "            closed_set.append(u)\n",
    "            \n",
    "            # Ziel gefunden\n",
    "            if u == dst:\n",
    "                print('Found end')\n",
    "                break\n",
    "\n",
    "            # gibt es kein weg zum ziel dann:\n",
    "                # Verschieben oder laufen?\n",
    "                # - Position ermitteln laufen\n",
    "                # - Position ermitteln nachdem schieben\n",
    "                # Auswählen, welche Position besser ist und dahin platzieren\n",
    "\n",
    "            # Nähstes Spielstein zum Ziel, verschieben\n",
    "            else:\n",
    "                print(\"Schritt\")\n",
    "                for v in grid.get_adjacent(u):\n",
    "                    # print(\"closed: \", closed_set)\n",
    "                    # print(\"Open: \", open_set)\n",
    "                    new_g = g_score[u] + 1\n",
    "                    \n",
    "                    if v not in open_set and v not in closed_set:\n",
    "                        open_set.append(v)\n",
    "                        g_score[v] = new_g\n",
    "                        f_score[v] = new_g + heuristic_cost_estimate(v, dst, grid)\n",
    "                        # merke den knoten wo du stehtst (3, 0)\n",
    "                        \n",
    "                        # besten knoten im \"subtree\"\n",
    "                        # wir wählen den erst Besten (\"<\") aufgrund der weiter benötigten Schritte (wenn kein Ende vorhanden)\n",
    "                        if heuristic_cost_estimate(v, dst, grid) < best_node_cost:\n",
    "                            best_node = v\n",
    "                            best_node_cost = heuristic_cost_estimate(v, dst, grid)\n",
    "                            # print(\"Best node: \", best_node)\n",
    "                                       \n",
    "\n",
    "                        prev[v] = u\n",
    "                    elif ((v in open_set) or (v in closed_set)) and (new_g < g_score[v]):\n",
    "                        g_score[v] = new_g\n",
    "                        f_score[v] = new_g + heuristic_cost_estimate(v, dst, grid)\n",
    "                        prev[v] = u\n",
    "                        \n",
    "                        if v in closed_set:\n",
    "                            open_set.append(v)\n",
    "                            closed_set.remove(v)\n",
    "\n",
    "                        # besten knoten im \"subtree\"\n",
    "                        # wir wählen den erst Besten (\"<\") aufgrund der weiter benötigten Schritte (wenn kein Ende vorhanden)\n",
    "                        if heuristic_cost_estimate(v, dst, grid) < best_node_cost:\n",
    "                            best_node = v\n",
    "                            best_node_cost = heuristic_cost_estimate(v, dst, grid)\n",
    "                            # print(\"Best node 2: \", best_node)\n",
    "                        \n",
    "            print(\"while openset\")   \n",
    "        \n",
    "\n",
    "        # Ziel gefunden\n",
    "        print(\"best_node\", best_node)\n",
    "        print(\"dst\", dst)\n",
    "        # ziel?\n",
    "        if best_node == dst:      \n",
    "            print(tiles[grid.get_value(dst[0],dst[1])][1])\n",
    "            print('Found end')\n",
    "            break\n",
    "        \n",
    "        # sonst verschieben\n",
    "\n",
    "\n",
    "        # print(\"Off\", grid.off_tile)\n",
    "        # print(\"Best Node\", best_node)\n",
    "\n",
    "        # Alle geraden Reihen dann nach rechts\n",
    "        if (best_node[0] % 2 == 0):\n",
    "            grid.off_tile = grid.move_row_right(best_node[0], grid.off_tile)\n",
    "            best_node = grid.move_player_right(best_node) \n",
    "        else: \n",
    "            grid.off_tile = grid.move_row_left(best_node[0], grid.off_tile)\n",
    "            best_node = grid.move_player_left(best_node)\n",
    "\n",
    "        # print(\"Off\", grid.off_tile)\n",
    "        # print(\"Best Node\", best_node)\n",
    "\n",
    "        # row holen\n",
    "        # Karte holen\n",
    "        # verschieben (gerade ungerade) => \n",
    "            # reihe verschieben mit neuer karte\n",
    "            # spieler verschieben\n",
    "\n",
    "        # am ende nachdem verschoebn wurde\n",
    "        open_set = [best_node]\n",
    "        \n",
    "        print(\"while not dst\")\n",
    "    \n",
    "    print(\"End\")\n",
    "    \n",
    "    # Now reconstruct the path if it was found\n",
    "    path = []\n",
    "    if prev[dst] is not None:\n",
    "        current = dst\n",
    "        while current is not None:\n",
    "            path.append(current)\n",
    "            current = prev[current]\n",
    "        path = path[::-1]  # Reverse to get the path from src to dst\n",
    "    \n",
    "    return path\n"
   ]
  },
  {
   "cell_type": "code",
   "execution_count": 290,
   "id": "f2f098d5",
   "metadata": {},
   "outputs": [
    {
     "name": "stdout",
     "output_type": "stream",
     "text": [
      "Schritt\n",
      "while openset\n",
      "Schritt\n",
      "while openset\n",
      "Schritt\n",
      "while openset\n",
      "Schritt\n",
      "while openset\n",
      "Schritt\n",
      "while openset\n",
      "Schritt\n",
      "while openset\n",
      "best_node (4, 1)\n",
      "dst (0, 3)\n",
      "while not dst\n",
      "Schritt\n",
      "while openset\n",
      "Schritt\n",
      "while openset\n",
      "best_node (4, 2)\n",
      "dst (0, 3)\n",
      "while not dst\n",
      "Schritt\n",
      "while openset\n",
      "Schritt\n",
      "while openset\n",
      "Schritt\n",
      "while openset\n",
      "best_node (3, 3)\n",
      "dst (0, 3)\n",
      "while not dst\n",
      "Schritt\n",
      "while openset\n",
      "Schritt\n",
      "while openset\n",
      "Schritt\n",
      "while openset\n",
      "Schritt\n",
      "while openset\n",
      "Found end\n",
      "best_node (0, 3)\n",
      "dst (0, 3)\n",
      "1\n",
      "Found end\n",
      "End\n"
     ]
    }
   ],
   "source": [
    "\n",
    "optimal_path = a_star(spielfeld_grid)"
   ]
  },
  {
   "cell_type": "markdown",
   "id": "69a0d661",
   "metadata": {},
   "source": [
    "## Grafische Ausgabe"
   ]
  },
  {
   "cell_type": "code",
   "execution_count": 291,
   "id": "77a818bb",
   "metadata": {},
   "outputs": [],
   "source": [
    "string_map = {\n",
    "    0: \"┌\",\n",
    "    1: \"┐\",\n",
    "    2: \"└\",\n",
    "    3: \"┘\",\n",
    "    4: \"┬\",\n",
    "    5: \"┤\",\n",
    "    6: \"┴\",\n",
    "    7: \"├\",\n",
    "    8: \"|\",\n",
    "    9: \"-\",\n",
    "}"
   ]
  },
  {
   "cell_type": "code",
   "execution_count": 292,
   "id": "bb2a12bf",
   "metadata": {},
   "outputs": [
    {
     "name": "stdout",
     "output_type": "stream",
     "text": [
      "Optimal Path\n",
      "    ┌ ┤  \n",
      "    |    \n",
      "    ├    \n",
      "    ┤ ┐  \n",
      "┤ └ ┬ ┴  \n"
     ]
    }
   ],
   "source": [
    "def create_path_matrix(path, rows, cols, grid: Grid):\n",
    "    optimal_path_matrix = [[' ' for _ in range(cols)] for _ in range(rows)]\n",
    "\n",
    "    for node in path:\n",
    "        y, x = node\n",
    "        optimal_path_matrix[y][x] = string_map[grid.get_value(y,x)]  # Mark the cell in the path\n",
    "\n",
    "    return optimal_path_matrix\n",
    "\n",
    "path_matrix = create_path_matrix(optimal_path, spielfeld_grid.rows, spielfeld_grid.rows, spielfeld_grid)\n",
    "\n",
    "print(\"Optimal Path\")\n",
    "# Gib die Matrix aus\n",
    "for row in path_matrix:\n",
    "    print(' '.join(row))\n"
   ]
  },
  {
   "cell_type": "code",
   "execution_count": 293,
   "id": "267c2abe",
   "metadata": {},
   "outputs": [],
   "source": [
    "matrix = [\n",
    "    [2, 8, 0, 5],\n",
    "    [1, 5, 8, 1],\n",
    "    [0, 7, 7, 2],\n",
    "    [6, 1, 9, 5],\n",
    "    [4, 6, 1, 5]\n",
    "]"
   ]
  },
  {
   "cell_type": "code",
   "execution_count": 294,
   "id": "fdb08fd6843b9fbb",
   "metadata": {
    "collapsed": false
   },
   "outputs": [],
   "source": [
    "# # Beispiel\n",
    "# # Spielfield hat bei 0;0 die Zahl 0, dadurch ergibt sich tiles[0] => [0, 0, 1, 1]\n",
    "# #print(tiles[0])#\n",
    "# print(\"Wert Spielstein\", spielfeld_grid.get_value(0,1))\n",
    "# print(\"Spielstein Kodierung: \", tiles[spielfeld_grid.get_value(0,1)])\n",
    "\n",
    "# # Spielfeld Grid \n",
    "# print(\"Nodes: \", spielfeld_grid.get_nodes())\n",
    "# test_node = (4,0)\n",
    "# print(\"Nachbarn: \", spielfeld_grid.get_adjacent(test_node))\n",
    "# print(\"Nachbarn: \", spielfeld_grid.get_adjacent((3,0)))\n",
    "# print(\"Nachbarn: \", string_map[spielfeld_grid.get_value(4,0)])\n",
    "# print(\"Anzahl Nachbarn\", len(spielfeld_grid.get_adjacent(test_node)))\n",
    "# print(\"Wert Node\", spielfeld_grid.grid_values)\n",
    "# print(\"Wert Node\", tiles[spielfeld_grid.get_value(3,0)])\n",
    "# print(\"Wert Node\", tiles[spielfeld_grid.get_value(4,0)])"
   ]
  },
  {
   "cell_type": "code",
   "execution_count": 295,
   "id": "af89d4d7",
   "metadata": {},
   "outputs": [
    {
     "name": "stdout",
     "output_type": "stream",
     "text": [
      "└ | ┌ ┤\n",
      "┐ ┤ | ┐\n",
      "┌ ├ ├ └\n",
      "┴ ┐ - ┤\n",
      "┬ ┴ ┐ ┤\n"
     ]
    }
   ],
   "source": [
    "# Create a matrix of strings\n",
    "string_matrix = [[string_map[num] for num in row] for row in matrix]\n",
    "\n",
    "# Display the string matrix\n",
    "for row in string_matrix:\n",
    "    print(\" \".join(row))"
   ]
  },
  {
   "cell_type": "markdown",
   "id": "1ff35b9447f59883",
   "metadata": {
    "collapsed": false
   },
   "source": [
    "3. A* anhand lösbarem Beispiel\n",
    "\n",
    "- checken grenzen\n",
    "    - wenn laufen nicht möglich, dann schieben\n",
    "        \n",
    "- verschieben  \n",
    "    - Zeile über Spielfigur in möglich Richtung\n",
    "    \n",
    "- checken funktion/algo\n",
    "- Listen führen: Open/Close\n",
    "\n",
    "- Heuristik:\n",
    "    - 1 Schritt = +1\n",
    "    - 1 Verschieben = +1\n",
    "    - Heuristischer wert = Schritte bis zum Ziel\n",
    "        -   ABER wenn nicht Öffnung nach oben +2\n",
    "\n",
    "WAS TUN BEI GLEICHSTAND?\n",
    "AB WANN VERSCHIEBEN (auch wenn laufen möglich)\n",
    "\n",
    "- jeden möglichen weg berechnen\n",
    "- jeden möglichen weg nach verschiebungen"
   ]
  }
 ],
 "metadata": {
  "kernelspec": {
   "display_name": "Python 3",
   "language": "python",
   "name": "python3"
  },
  "language_info": {
   "codemirror_mode": {
    "name": "ipython",
    "version": 3
   },
   "file_extension": ".py",
   "mimetype": "text/x-python",
   "name": "python",
   "nbconvert_exporter": "python",
   "pygments_lexer": "ipython3",
   "version": "3.12.0"
  }
 },
 "nbformat": 4,
 "nbformat_minor": 5
}

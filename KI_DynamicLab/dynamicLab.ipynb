{
 "cells": [
  {
   "cell_type": "markdown",
   "id": "59c7a77486b22030",
   "metadata": {
    "collapsed": false
   },
   "source": [
    "# Dynamisches Labyrinth"
   ]
  },
  {
   "cell_type": "markdown",
   "id": "ab31de86360492a7",
   "metadata": {
    "collapsed": false
   },
   "source": [
    "## TODOS"
   ]
  },
  {
   "cell_type": "markdown",
   "id": "5a8cdae98f8dff63",
   "metadata": {
    "collapsed": false
   },
   "source": [
    "1.1 CSV einlesen"
   ]
  },
  {
   "cell_type": "code",
   "execution_count": 161,
   "id": "e975b0cef9bef6ae",
   "metadata": {
    "ExecuteTime": {
     "end_time": "2024-01-05T08:54:44.786091300Z",
     "start_time": "2024-01-05T08:54:44.750926400Z"
    },
    "collapsed": false
   },
   "outputs": [],
   "source": [
    "import csv\n",
    "\n",
    "# Pfad zur CSV-Datei\n",
    "csv_datei_pfad = './data/Puzzle_easy_3.csv'\n",
    "\n",
    "# Liste zum Speichern der Daten\n",
    "spielfeld = []\n",
    "\n",
    "# CSV-Datei öffnen und Daten einlesen\n",
    "with open(csv_datei_pfad, 'r') as csv_datei:\n",
    "    csv_reader = csv.reader(csv_datei, delimiter=\";\")\n",
    "    \n",
    "    # Zeile für Zeile durch die CSV-Datei iterieren\n",
    "    for zeile in csv_reader:\n",
    "        spielfeld.append(zeile)\n",
    "\n",
    "# Die 'daten'-Liste enthält nun die Daten aus der CSV-Datei\n",
    "# daten[1] <- Spalte 1 mit Anführungszeichen\n",
    "# daten[1][0] <- Spalte 1, zweites Array immer mit Index 0\n",
    "# daten[1][0][2] <- Spalte 1, mit Index 2 gibt eine einzelene Zahl/Spielfeld\n",
    "# print(spielfeld[2][0][0])"
   ]
  },
  {
   "cell_type": "markdown",
   "id": "0f304108",
   "metadata": {},
   "source": [
    "1.2 Grid definieren und initalisieren"
   ]
  },
  {
   "cell_type": "code",
   "execution_count": 162,
   "id": "9fea51ab",
   "metadata": {},
   "outputs": [
    {
     "name": "stdout",
     "output_type": "stream",
     "text": [
      "Nodes:  [(0, 0), (0, 1), (0, 2), (0, 3), (1, 0), (1, 1), (1, 2), (1, 3), (2, 0), (2, 1), (2, 2), (2, 3), (3, 0), (3, 1), (3, 2), (3, 3), (4, 0), (4, 1), (4, 2), (4, 3)]\n",
      "Nachbarn:  [(0, 1), (2, 1), (1, 0), (1, 2)]\n",
      "Anzahl Nachbarn 4\n",
      "Wert Node [[2, 8, 0, 7], [1, 5, 8, 1], [0, 7, 7, 1], [6, 5, 5, 5], [4, 4, 6, 6]]\n",
      "Wert Node 8\n"
     ]
    }
   ],
   "source": [
    "# überarbeitet\n",
    "class Grid:\n",
    "    def __init__(self, src, dst, matrix):\n",
    "        self.src = src\n",
    "        self.dst = dst\n",
    "        self.rows = len(matrix)-1\n",
    "        self.cols = len(spielfeld[0]) if self.rows > 0 else 0 #self.cols = len(spielfeld[0][0].split(\";\")) if self.rows > 0 else 0\n",
    "        self.nodes = [(i, j) for i in range(self.rows) for j in range(self.cols)]\n",
    "        self.grid_values = [[0 for _ in range(self.cols)] for _ in range(self.rows)]\n",
    "\n",
    "        for i in range(self.rows):\n",
    "            for j in range(self.cols):\n",
    "                self.grid_values[i][j] = int(matrix[i][j])\n",
    "\n",
    "    def get_value(self, row, col):\n",
    "        if 0 <= row < self.rows and 0 <= col < self.cols:\n",
    "            return self.grid_values[row][col]\n",
    "        return None  # Wert außerhalb der Grenzen des Grids\n",
    "\n",
    "    def get_nodes(self):\n",
    "        return self.nodes\n",
    "    \n",
    "    def get_adjacent(self, node):\n",
    "        x, y = node\n",
    "        adjacent_nodes = []\n",
    "\n",
    "        # Horizontale Nachbarn\n",
    "        for dx in [-1, 1]:\n",
    "            new_x, new_y = x + dx, y\n",
    "            if 0 <= new_x < self.rows and 0 <= new_y < self.cols:\n",
    "                adjacent_nodes.append((new_x, new_y))\n",
    "\n",
    "        # Vertikale Nachbarn\n",
    "        for dy in [-1, 1]:\n",
    "            new_x, new_y = x, y + dy\n",
    "            if 0 <= new_x < self.rows and 0 <= new_y < self.cols:\n",
    "                adjacent_nodes.append((new_x, new_y))\n",
    "\n",
    "        return adjacent_nodes\n",
    "\n",
    "spielfeld_grid = Grid((0,0), (5,4), spielfeld)\n",
    "\n",
    "# Grid \n",
    "print(\"Nodes: \", spielfeld_grid.get_nodes())\n",
    "test_node = (1,1)\n",
    "print(\"Nachbarn: \", spielfeld_grid.get_adjacent(test_node))\n",
    "print(\"Anzahl Nachbarn\", len(spielfeld_grid.get_adjacent(test_node)))\n",
    "print(\"Wert Node\", spielfeld_grid.grid_values)\n",
    "print(\"Wert Node\", spielfeld_grid.get_value(0,1))"
   ]
  },
  {
   "cell_type": "markdown",
   "id": "ebbe660a6964b1e",
   "metadata": {
    "collapsed": false
   },
   "source": [
    "## 2. Spielsteine definieren"
   ]
  },
  {
   "cell_type": "markdown",
   "id": "0f7dbeae",
   "metadata": {},
   "source": [
    "Erklärung: Es gibt 10 verschiedene Spielsteine die angeben, in welche Richtung der Spieler sich bewegen und nicht bewegen kann. Dabei werden die verschiedenen Spielsteine in einer\n",
    "- Matrix von 0 - 9 dargestellt und\n",
    "- jeder Spielstein erhält zudem eine 2x2 Matrix der die möglichen Richtungen angibt. \n",
    "\n",
    "Dabei gilt folgendes: [ left, top, right, bottom] wobei eine 1 für eine Verbindung und eine 0 für keine Verbindung steht zum nächsten Feld steht. Als Beipsiel, [0, 0, 1, 1] steht für [-, -, right, bottom], also ist dieser Spielstein eine Ecke die eine Verbindung von unten nach rechts besitzt."
   ]
  },
  {
   "cell_type": "code",
   "execution_count": 163,
   "id": "065c8323",
   "metadata": {},
   "outputs": [],
   "source": [
    "# [ left, top, right, bottom]\n",
    "tile0 = [0, 0, 1, 1]\n",
    "tile1 = [1, 0, 0, 1]\n",
    "tile2 = [0, 1, 1, 0]\n",
    "tile3 = [1, 1, 0, 0]\n",
    "tile4 = [1, 0, 1, 1]\n",
    "tile5 = [1, 1, 0, 1]\n",
    "tile6 = [1, 1, 1, 0]\n",
    "tile7 = [0, 1, 1, 1]\n",
    "tile8 = [0, 1, 0, 1]\n",
    "tile9 = [1, 0, 1, 0]"
   ]
  },
  {
   "cell_type": "code",
   "execution_count": 164,
   "id": "fdb08fd6843b9fbb",
   "metadata": {
    "collapsed": false
   },
   "outputs": [
    {
     "name": "stdout",
     "output_type": "stream",
     "text": [
      "Wert Spielstein 8\n",
      "Spielstein Kodierung:  [1, 0, 1, 0]\n"
     ]
    }
   ],
   "source": [
    "# Kodierung für das Spielfeld\n",
    "tiles = [tile0, tile1, tile2, tile3, tile4, tile5, tile6, tile8, tile9]\n",
    "\n",
    "# Beispiel\n",
    "# Spielfield hat bei 0;0 die Zahl 0, dadurch ergibt sich tiles[0] => [0, 0, 1, 1]\n",
    "#print(tiles[0])#\n",
    "print(\"Wert Spielstein\", spielfeld_grid.get_value(0,1))\n",
    "print(\"Spielstein Kodierung: \", tiles[spielfeld_grid.get_value(0,1)])"
   ]
  },
  {
   "cell_type": "markdown",
   "id": "057f8877",
   "metadata": {},
   "source": [
    "## 3. A* anhand lösbarem Beispiel"
   ]
  },
  {
   "cell_type": "markdown",
   "id": "5cd65268",
   "metadata": {},
   "source": [
    "Some text"
   ]
  },
  {
   "cell_type": "code",
   "execution_count": 165,
   "id": "8845d577",
   "metadata": {},
   "outputs": [],
   "source": [
    "# Replace this with your actual heuristic function\n",
    "def heuristic_cost_estimate(current, goal):\n",
    "    # Example: Euclidean distance heuristic\n",
    "    x1, y1 = current\n",
    "    x2, y2 = goal\n",
    "    return ((x2 - x1) ** 2 + (y2 - y1) ** 2) ** 0.5"
   ]
  },
  {
   "cell_type": "code",
   "execution_count": 166,
   "id": "630ca571",
   "metadata": {},
   "outputs": [],
   "source": [
    "def a_star(grid):\n",
    "    nodes = grid.get_nodes()\n",
    "    closed_set = []\n",
    "    open_set = [grid.src]\n",
    "    prev = {node: None for node in nodes}\n",
    "    g_score = {node: float(\"inf\") for node in nodes}\n",
    "    src = grid.src\n",
    "    dst = grid.dst\n",
    "    g_score[src] = 0\n",
    "    f_score = {node: float(\"inf\") for node in nodes}\n",
    "    f_score[src] = heuristic_cost_estimate(src, dst)\n",
    "    \n",
    "    while open_set:\n",
    "        u = min(open_set, key=f_score.get)\n",
    "        open_set.remove(u)\n",
    "        closed_set.append(u)\n",
    "        \n",
    "        if u == dst:\n",
    "            print('Found end')\n",
    "            break\n",
    "        \n",
    "        for v in grid.get_adjacent(u):\n",
    "            new_g = g_score[u] + 1\n",
    "            \n",
    "            if v not in open_set and v not in closed_set:\n",
    "                open_set.append(v)\n",
    "                g_score[v] = new_g\n",
    "                f_score[v] = new_g + heuristic_cost_estimate(v, dst)\n",
    "                prev[v] = u\n",
    "            elif new_g < g_score[v]:\n",
    "                g_score[v] = new_g\n",
    "                f_score[v] = new_g + heuristic_cost_estimate(v, dst)\n",
    "                prev[v] = u\n",
    "                \n",
    "                if v in closed_set:\n",
    "                    open_set.append(v)\n",
    "                    closed_set.remove(v)\n",
    "    \n",
    "    # Now reconstruct the path if it was found\n",
    "    path = []\n",
    "    if prev[dst] is not None:\n",
    "        current = dst\n",
    "        while current is not None:\n",
    "            path.append(current)\n",
    "            current = prev[current]\n",
    "        path = path[::-1]  # Reverse to get the path from src to dst\n",
    "    \n",
    "    return path\n"
   ]
  },
  {
   "cell_type": "code",
   "execution_count": 167,
   "id": "f2f098d5",
   "metadata": {},
   "outputs": [
    {
     "ename": "KeyError",
     "evalue": "(5, 4)",
     "output_type": "error",
     "traceback": [
      "\u001b[0;31m---------------------------------------------------------------------------\u001b[0m",
      "\u001b[0;31mKeyError\u001b[0m                                  Traceback (most recent call last)",
      "Cell \u001b[0;32mIn[167], line 1\u001b[0m\n\u001b[0;32m----> 1\u001b[0m \u001b[43ma_star\u001b[49m\u001b[43m(\u001b[49m\u001b[43mspielfeld_grid\u001b[49m\u001b[43m)\u001b[49m\n",
      "Cell \u001b[0;32mIn[166], line 41\u001b[0m, in \u001b[0;36ma_star\u001b[0;34m(grid)\u001b[0m\n\u001b[1;32m     39\u001b[0m \u001b[38;5;66;03m# Now reconstruct the path if it was found\u001b[39;00m\n\u001b[1;32m     40\u001b[0m path \u001b[38;5;241m=\u001b[39m []\n\u001b[0;32m---> 41\u001b[0m \u001b[38;5;28;01mif\u001b[39;00m \u001b[43mprev\u001b[49m\u001b[43m[\u001b[49m\u001b[43mdst\u001b[49m\u001b[43m]\u001b[49m \u001b[38;5;129;01mis\u001b[39;00m \u001b[38;5;129;01mnot\u001b[39;00m \u001b[38;5;28;01mNone\u001b[39;00m:\n\u001b[1;32m     42\u001b[0m     current \u001b[38;5;241m=\u001b[39m dst\n\u001b[1;32m     43\u001b[0m     \u001b[38;5;28;01mwhile\u001b[39;00m current \u001b[38;5;129;01mis\u001b[39;00m \u001b[38;5;129;01mnot\u001b[39;00m \u001b[38;5;28;01mNone\u001b[39;00m:\n",
      "\u001b[0;31mKeyError\u001b[0m: (5, 4)"
     ]
    }
   ],
   "source": [
    "a_star(spielfeld_grid)"
   ]
  },
  {
   "cell_type": "markdown",
   "id": "69a0d661",
   "metadata": {},
   "source": [
    "## Grafische Ausgabe"
   ]
  },
  {
   "cell_type": "code",
   "execution_count": null,
   "id": "267c2abe",
   "metadata": {},
   "outputs": [],
   "source": [
    "matrix = [\n",
    "    [2, 8, 0, 5],\n",
    "    [1, 5, 8, 1],\n",
    "    [0, 7, 7, 1],\n",
    "    [6, 5, 5, 5],\n",
    "    [4, 4, 6, 6]\n",
    "]"
   ]
  },
  {
   "cell_type": "code",
   "execution_count": null,
   "id": "77a818bb",
   "metadata": {},
   "outputs": [],
   "source": [
    "string_map = {\n",
    "    0: \"┌\",\n",
    "    1: \"┐\",\n",
    "    2: \"└\",\n",
    "    3: \"┘\",\n",
    "    4: \"┬\",\n",
    "    5: \"┤\",\n",
    "    6: \"┴\",\n",
    "    7: \"├\",\n",
    "    8: \"|\",\n",
    "    9: \"-\",\n",
    "}"
   ]
  },
  {
   "cell_type": "code",
   "execution_count": null,
   "id": "af89d4d7",
   "metadata": {},
   "outputs": [
    {
     "name": "stdout",
     "output_type": "stream",
     "text": [
      "└ | ┌ ┤\n",
      "┐ ┤ | ┐\n",
      "┌ ├ ├ ┐\n",
      "┴ ┤ ┤ ┤\n",
      "┬ ┬ ┴ ┴\n"
     ]
    }
   ],
   "source": [
    "# Create a matrix of strings\n",
    "string_matrix = [[string_map[num] for num in row] for row in matrix]\n",
    "\n",
    "# Display the string matrix\n",
    "for row in string_matrix:\n",
    "    print(\" \".join(row))"
   ]
  },
  {
   "cell_type": "markdown",
   "id": "1ff35b9447f59883",
   "metadata": {
    "collapsed": false
   },
   "source": [
    "3. A* anhand lösbarem Beispiel\n",
    "\n",
    "- checken grenzen\n",
    "    - wenn laufen nicht möglich, dann schieben\n",
    "        \n",
    "- verschieben  \n",
    "    - Zeile über Spielfigur in möglich Richtung\n",
    "    \n",
    "- checken funktion/algo\n",
    "- Listen führen: Open/Close\n",
    "\n",
    "- Heuristik:\n",
    "    - 1 Schritt = +1\n",
    "    - 1 Verschieben = +1\n",
    "    - Heuristischer wert = Schritte bis zum Ziel\n",
    "        -   ABER wenn nicht Öffnung nach oben +2\n",
    "\n",
    "WAS TUN BEI GLEICHSTAND?\n",
    "AB WANN VERSCHIEBEN (auch wenn laufen möglich)\n",
    "\n",
    "- jeden möglichen weg berechnen\n",
    "- jeden möglichen weg nach verschiebungen"
   ]
  }
 ],
 "metadata": {
  "kernelspec": {
   "display_name": "Python 3",
   "language": "python",
   "name": "python3"
  },
  "language_info": {
   "codemirror_mode": {
    "name": "ipython",
    "version": 3
   },
   "file_extension": ".py",
   "mimetype": "text/x-python",
   "name": "python",
   "nbconvert_exporter": "python",
   "pygments_lexer": "ipython3",
   "version": "3.12.0"
  }
 },
 "nbformat": 4,
 "nbformat_minor": 5
}

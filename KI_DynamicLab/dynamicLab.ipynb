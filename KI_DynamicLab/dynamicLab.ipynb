{
 "cells": [
  {
   "cell_type": "markdown",
   "id": "59c7a77486b22030",
   "metadata": {
    "collapsed": false
   },
   "source": [
    "# Dynamisches Labyrinth\n",
    "\n",
    "## Aufgabenstellung\n",
    "\n",
    "Ihr Ziel ist es, durch ein Labyrinth aus 20 Feldern zu navigieren. Sie können entweder einen Spielstein schieben oder Ihre Spielfigur entlang des begehbaren Wegs bewegen. Das Schieben eines Steins verschiebt eine ganze Zeile und bewegt den Stein auf die gegenüberliegende Seite des Spielfelds. Wenn Ihre Figur auf das herausgeschobene Feld gelangt, wird sie auf das hineingeschobene Feld gesetzt. Sie müssen mit möglichst wenigen Zügen von der Eingangsposition zu den Ausgangspunkten (rote Pfeile) gelangen, wobei der Ein- und Ausgang begehbar sein muss."
   ]
  },
  {
   "cell_type": "markdown",
   "id": "78a0b19c",
   "metadata": {},
   "source": [
    "## Theoretische Vorüberlegungen\n",
    "\n",
    "### Einige Fragen\n",
    "- Beim A* Algorithmus: Wenn kein Weg existiert, wie wird dann der beste Knoten (best_node) ausgewählt, und ist der Algorithmus in solchen Fällen noch \"einfach\" anwendbar?\n",
    "- Sind Anpassungen an der Heuristik notwendig, um bessere Ergebnisse in einem dynamischen Labyrinth zu erzielen, das sich mit jeder Aktion verändert?\n",
    "- Wird zuerst der Spielstein verschoben oder wird zuerst der Spieler an die optimale Position bewegt, um den besten Pfad zu finden?\n",
    "- Existieren bestimmte Spielsteine, die für einen möglichst optimalen Pfad besser geeignet sind als andere, und wenn ja, welche Eigenschaften machen sie besser für die Navigation im Labyrinth?"
   ]
  },
  {
   "cell_type": "markdown",
   "id": "915e8d6c",
   "metadata": {},
   "source": [
    "## Limits des entwickelten Algorithmus\n",
    "- ..."
   ]
  },
  {
   "cell_type": "markdown",
   "id": "ab31de86360492a7",
   "metadata": {
    "collapsed": false
   },
   "source": [
    "## Vorgehensweise zur Lösung des Rätsels im dynamischen Labyrinth\n",
    "1. Einlesen des Spielfelds, um die Ausgangsbedingungen zu erfassen.\n",
    "2. Kodierung der Spielsteine und Definition der Grid-Klasse zur effizienten Verwaltung des Spielfelds.\n",
    "3. Anpassung des A* Algorithmus:\n",
    "    - Implementierung des A* Algorithmus für die Pfadfindung.\n",
    "    - Anpassung der Heuristik, um die Entscheidungen basierend auf dem \"bestmöglichen Spielstein\" zu verbessern.\n",
    "    - Implementierung der Logik zum Verschieben von Reihen/Spielern im Labyrinth.\n",
    "4. Erstellung eines grafischen Prototyps für die visuelle Darstellung des Spielverlaufs und der Lösungswege."
   ]
  },
  {
   "cell_type": "markdown",
   "id": "5a8cdae98f8dff63",
   "metadata": {
    "collapsed": false
   },
   "source": [
    "### 1. Einlesen des Spielfelds\n",
    "- Das Spielfeld wird als n x m Matrix aus einer CSV-Datei geladen.\n",
    "- Die CSV-Datei enthält Werte im Bereich von 0 bis 9.\n",
    "- Jeder Wert repräsentiert einen bestimmten Spielstein, weitere Details folgen im nächsten Schritt.\n",
    "- Der freie Spielstein liegt in der linken unteren Ecke der CSV-Datei und wird z.B. als \"`2;;;`\" dargestellt."
   ]
  },
  {
   "cell_type": "code",
   "execution_count": 1,
   "id": "e975b0cef9bef6ae",
   "metadata": {
    "ExecuteTime": {
     "end_time": "2024-01-05T08:54:44.786091300Z",
     "start_time": "2024-01-05T08:54:44.750926400Z"
    },
    "collapsed": false
   },
   "outputs": [],
   "source": [
    "import csv\n",
    "\n",
    "csv_path = './data/Puzzle_3.csv'\n",
    "\n",
    "spielfeld = []\n",
    "\n",
    "with open(csv_path, 'r') as csv_datei:\n",
    "    csv_reader = csv.reader(csv_datei, delimiter=\";\")\n",
    "    for zeile in csv_reader:\n",
    "        spielfeld.append(zeile)"
   ]
  },
  {
   "cell_type": "markdown",
   "id": "55c64050",
   "metadata": {},
   "source": [
    "## 2. Spielsteine und Grid\n",
    "### 2.1 Spielsteine definieren\n",
    "Erklärung: Es gibt 10 verschiedene Spielsteine die angeben, in welche Richtung der Spieler sich bewegen und nicht bewegen kann. Dabei werden die verschiedenen Spielsteine in einer\n",
    "- Matrix von 0 - 9 dargestellt und\n",
    "- jeder Spielstein erhält zudem eine 2x2 Matrix der die möglichen Richtungen angibt. \n",
    "\n",
    "Dabei gilt folgendes: [ left, top, right, bottom] wobei eine 1 für eine Verbindung und eine 0 für keine Verbindung steht zum nächsten Feld steht. Als Beipsiel, [0, 0, 1, 1] steht für [-, -, right, bottom], also ist dieser Spielstein eine Ecke die eine Verbindung von unten nach rechts besitzt."
   ]
  },
  {
   "cell_type": "code",
   "execution_count": 2,
   "id": "065c8323",
   "metadata": {},
   "outputs": [],
   "source": [
    "# Kodierung der Spielsteine \n",
    "# [ left, top, right, bottom]\n",
    "tile0 = [0, 0, 1, 1]\n",
    "tile1 = [1, 0, 0, 1]\n",
    "tile2 = [0, 1, 1, 0]\n",
    "tile3 = [1, 1, 0, 0]\n",
    "tile4 = [1, 0, 1, 1]\n",
    "tile5 = [1, 1, 0, 1]\n",
    "tile6 = [1, 1, 1, 0]\n",
    "tile7 = [0, 1, 1, 1]\n",
    "tile8 = [0, 1, 0, 1]\n",
    "tile9 = [1, 0, 1, 0]"
   ]
  },
  {
   "cell_type": "code",
   "execution_count": 3,
   "id": "d00ba3c3",
   "metadata": {},
   "outputs": [],
   "source": [
    "# Spielsteine und Kodierungen\n",
    "tiles = [tile0, tile1, tile2, tile3, tile4, tile5, tile6, tile7, tile8, tile9]"
   ]
  },
  {
   "cell_type": "markdown",
   "id": "20e764a8",
   "metadata": {},
   "source": [
    "## 2.2 Grid definieren\n",
    "Die Klasse `Grid` verwaltet das Spielfeld für den A*-Algorithmus und die Spielsteinbewegungen. Sie initialisiert das Spielfeld, ermöglicht das Abrufen und Setzen von Knotenwerten sowie das Verschieben des Spielers und der Spielsteine. Die Methode `get_adjacent` ermittelt benachbarte Knoten, die durch begehbare Wege verbunden sind."
   ]
  },
  {
   "cell_type": "code",
   "execution_count": 4,
   "id": "9fea51ab",
   "metadata": {},
   "outputs": [],
   "source": [
    "class Grid:\n",
    "    '''\n",
    "    Das Grid erleichtert das Arbeiten im A* Stern, verschieben der\n",
    "    Spielsteine (Reihen) und des Spielers.\n",
    "    '''\n",
    "    def __init__(self, src, dst, matrix):\n",
    "        '''\n",
    "        Definiert Start und Ziel um Grid.\n",
    "        Initialisiert alle Knoten und Knoten Werte\n",
    "\n",
    "        Parameters: src, dst\n",
    "        Returns: none\n",
    "        '''\n",
    "        self.src = src\n",
    "        self.dst = dst\n",
    "        self.off_tile = int(matrix[-1][0])\n",
    "        self.rows = len(matrix)-1\n",
    "        self.cols = len(matrix[0]) if self.rows > 0 else 0\n",
    "        self.nodes = [(i, j) for i in range(self.rows) for j in range(self.cols)]\n",
    "        self.grid_values = [[0 for _ in range(self.cols)] for _ in range(self.rows)]\n",
    "\n",
    "        for i in range(self.rows):\n",
    "            for j in range(self.cols):\n",
    "                self.grid_values[i][j] = int(matrix[i][j])\n",
    "\n",
    "    def get_value(self, row, col):\n",
    "        '''\n",
    "        Wert der zur Kodierung der Spielsteine verwendet wird \n",
    "\n",
    "        Parameters: row, col\n",
    "        Returns: int\n",
    "        '''\n",
    "        if 0 <= row < self.rows and 0 <= col < self.cols:\n",
    "            return self.grid_values[row][col]\n",
    "        return None\n",
    "    \n",
    "    def set_value(self, row: int, col: int, new_value: int(0-9)):\n",
    "        '''\n",
    "        Spielstein Kodierungs Wert (0-9) um z.B. Spielsteine verschieben\n",
    "\n",
    "        Parameters: row, col, new_value\n",
    "        Returns: none\n",
    "        '''\n",
    "        self.grid_values[row][col] = int(new_value)\n",
    "\n",
    "    def move_player_left(self, player_src):\n",
    "        '''\n",
    "        Verschiebt den Spieler nach links und gibt die neue Position zurück\n",
    "\n",
    "        Parameters: player_src\n",
    "        Returns: new_position\n",
    "        '''\n",
    "        row, col = player_src\n",
    "\n",
    "        if col == 0:\n",
    "            new_position = (row, self.cols - 1)\n",
    "        else:\n",
    "            new_position = (row, (col - 1) % self.cols)\n",
    "\n",
    "        return new_position\n",
    "    \n",
    "    def move_row_left(self, row_index, new_tile):\n",
    "        '''\n",
    "        Verschiebt die gegebene Reihe (index) nach links, \n",
    "        setzt ein neuen Spielstein (new_tile) rechts ein und \n",
    "        gibt den entfernten linken Spielstein zurück\n",
    "\n",
    "        Parameters: row_index, new_tile\n",
    "        Returns: moved_out\n",
    "        '''\n",
    "        row = self.grid_values[row_index]\n",
    "        moved_out = row[0]\n",
    "\n",
    "        for i in range(1, self.cols):\n",
    "            self.set_value(row_index, i - 1, row[i])\n",
    "        self.set_value(row_index, self.cols - 1, new_tile)\n",
    "\n",
    "        return moved_out\n",
    "        \n",
    "    def move_player_right(self, player_src):\n",
    "        '''\n",
    "        Verschiebt den Spieler nach rechts und gibt die neue Position zurück\n",
    "\n",
    "        Parameters: player_src\n",
    "        Returns: new_position\n",
    "        '''\n",
    "        row, col = player_src\n",
    "        if col == self.cols - 1:\n",
    "            new_position = (row, 0)\n",
    "        else:\n",
    "            new_position = (row, (col + 1) % self.cols)\n",
    "\n",
    "        return new_position\n",
    "    \n",
    "    def move_row_right(self, row_index, new_tile):\n",
    "        '''\n",
    "        Verschiebt die gegebene Reihe (index) nach rechts, \n",
    "        setzt ein neuen Spielstein (new_tile) links ein und \n",
    "        gibt den entfernten rechten Spielstein zurück\n",
    "\n",
    "        Parameters: row_index, new_tile\n",
    "        Returns: moved_out\n",
    "        '''\n",
    "        row = self.grid_values[row_index]\n",
    "        moved_out = row[-1]\n",
    "        for i in range(self.cols - 1, 0, -1):\n",
    "            self.set_value(row_index, i, row[i-1])\n",
    "        self.set_value(row_index, 0, new_tile)\n",
    "\n",
    "        return moved_out\n",
    "\n",
    "    def get_nodes(self):\n",
    "        '''\n",
    "        Parameters: None\n",
    "        Returns: nodes\n",
    "        '''       \n",
    "        return self.nodes\n",
    "    \n",
    "    def get_adjacent(self, node):   \n",
    "        '''\n",
    "        Ermittelt alle horizontal und vertikal liegenden Nachbarn eines Knotens.\n",
    "        Gibt alle benachbarten Knoten zurück.\n",
    "\n",
    "        Parameters: node\n",
    "        Returns: adjacent_nodes\n",
    "        '''     \n",
    "        y, x = node\n",
    "        adjacent_nodes = []\n",
    "\n",
    "        # Horizontal Nachbarn\n",
    "        for dx in [-1, 1]:\n",
    "            new_x, new_y = x + dx, y\n",
    "            # Wenn im Grid dann\n",
    "            if 0 <= new_y < self.rows and 0 <= new_x < self.cols:\n",
    "                # linker Nachbar\n",
    "                if dx == -1:\n",
    "                    possible_path_new_x = tiles[self.get_value(new_y, new_x)]\n",
    "                    possible_path_x = tiles[self.get_value(y, x)]\n",
    "\n",
    "                    # Sind die Nachbarn mit einem Weg verbunden? \n",
    "                    if possible_path_new_x[2] == 1 and possible_path_x[0] == 1:                   \n",
    "                        adjacent_nodes.append((new_y, new_x))\n",
    "\n",
    "                # rechter Nachbar\n",
    "                if dx == 1:\n",
    "                    possible_path_new_x = tiles[self.get_value(new_y, new_x)]\n",
    "                    possible_path_x = tiles[self.get_value(y, x)]\n",
    "\n",
    "                    # Sind die Nachbarn mit einem Weg verbunden?\n",
    "                    if possible_path_new_x[0] == 1 and possible_path_x[2] == 1: \n",
    "                        adjacent_nodes.append((new_y, new_x))\n",
    "\n",
    "        # Vertikal Nachbarn\n",
    "        for dy in [-1, 1]:\n",
    "            new_x, new_y = x, y + dy\n",
    "\n",
    "            # Wenn im Grid dann\n",
    "            if 0 <= new_y < self.rows and 0 <= new_x <= self.cols:\n",
    "                # Oberer Nachbar \n",
    "                if dy == -1:\n",
    "                    possible_path_new_y = tiles[self.get_value(new_y, new_x)]\n",
    "                    possible_path_y = tiles[self.get_value(y, x)]\n",
    "\n",
    "                    # Sind die Nachbarn mit einem Weg verbunden? \n",
    "                    if possible_path_new_y[3] == 1 and possible_path_y[1] == 1:\n",
    "                        adjacent_nodes.append((new_y, new_x))\n",
    "\n",
    "                # Unterer Nachbar\n",
    "                if dy == 1:\n",
    "                    possible_path_new_y = tiles[self.get_value(new_y, new_x)]\n",
    "                    possible_path_y = tiles[self.get_value(y, x)]\n",
    "                    # Sind die Nachbarn mit einem Weg verbunden? \n",
    "                    if possible_path_new_y[1] == 1 and possible_path_y[3] == 1:\n",
    "                        adjacent_nodes.append((new_y, new_x))\n",
    "                \n",
    "\n",
    "        return adjacent_nodes"
   ]
  },
  {
   "cell_type": "markdown",
   "id": "2d0800eb",
   "metadata": {},
   "source": [
    "## Spielfeld Grid initialiseren aus spielfeld csv"
   ]
  },
  {
   "cell_type": "code",
   "execution_count": 5,
   "id": "675045a0",
   "metadata": {},
   "outputs": [],
   "source": [
    "spielfeld_grid = Grid((4,0), (0,3), spielfeld)"
   ]
  },
  {
   "cell_type": "markdown",
   "id": "057f8877",
   "metadata": {},
   "source": [
    "## 3. A* anhand lösbarem Beispiel"
   ]
  },
  {
   "cell_type": "markdown",
   "id": "5cd65268",
   "metadata": {},
   "source": [
    "Some text"
   ]
  },
  {
   "cell_type": "code",
   "execution_count": 6,
   "id": "8845d577",
   "metadata": {},
   "outputs": [],
   "source": [
    "# Replace this with your actual heuristic function\n",
    "def heuristic_cost_estimate(current, goal, grid):\n",
    "    # Example: Man\n",
    "    x1, y1 = current\n",
    "    x2, y2 = goal\n",
    "\n",
    "    # Wert aus dem Grid mit x1, x2\n",
    "    grid_tile_number = grid.get_value(x1,y1)\n",
    "    \n",
    "    # Tile bestimmen durch Wert aus Grid\n",
    "    grid_tile_value = tiles[grid_tile_number]\n",
    "    # Wenn Tile mit Weg nach oben +0 (Wird besser gewichtet)\n",
    "    if grid_tile_value[1]:\n",
    "        return abs(x2 - x1) + abs(y2 - y1)\n",
    "        #return (((x2 - x1) ** 2 + (y2 - y1) ** 2) ** 0.5)\n",
    "    \n",
    "    # Wenn Tile nicht mit Weg nach oben +2\n",
    "    return abs(x2 - x1) + abs(y2 - y1) + 2\n",
    "    #return ((x2 - x1) ** 2 + (y2 - y1) ** 2) ** 0.5 + 1"
   ]
  },
  {
   "cell_type": "markdown",
   "id": "50f5d92c",
   "metadata": {},
   "source": [
    "Zwei verschiedene Möglichkeiten das Grid zu verschieben (Also ein Spielstein von außen ins spielfeld schieben):\n",
    "- Erstens durch Regression \n",
    "- Zweitens durch verschachtelte While Schleife"
   ]
  },
  {
   "cell_type": "code",
   "execution_count": 7,
   "id": "630ca571",
   "metadata": {},
   "outputs": [],
   "source": [
    "def a_star(grid):\n",
    "    nodes = grid.get_nodes()\n",
    "    closed_set = []\n",
    "    prev = {node: None for node in nodes}\n",
    "    g_score = {node: float(\"inf\") for node in nodes}\n",
    "    src = grid.src # das ist eigentlich unser Spieler\n",
    "    dst = grid.dst\n",
    "    g_score[src] = 0\n",
    "    f_score = {node: float(\"inf\") for node in nodes}\n",
    "    f_score[src] = heuristic_cost_estimate(src, dst, grid)\n",
    "    \n",
    "    \n",
    "    best_node_cost = f_score[src]\n",
    "    best_node = grid.src\n",
    "    open_set = [best_node]\n",
    "\n",
    "    in_game = False\n",
    "\n",
    "    # best_node ist auch grid.src\n",
    "    while True:\n",
    "        # wenn spieler am start dann nach unten offenes tile\n",
    "        if tiles[grid.get_value(best_node[0],best_node[1])][3] != 1 and in_game == False:\n",
    "            #in_game = False\n",
    "            open_set.remove(best_node)\n",
    "\n",
    "        # V1 um die while nochmal eine while sollange unser bestnode nicht u\n",
    "        while open_set:\n",
    "            u = min(open_set, key=f_score.get)\n",
    "            open_set.remove(u)\n",
    "            closed_set.append(u)\n",
    "            \n",
    "            # Ziel gefunden\n",
    "            if u == dst:\n",
    "                print('Found end')\n",
    "                break\n",
    "\n",
    "            else:\n",
    "                for v in grid.get_adjacent(u):\n",
    "                    new_g = g_score[u] + 1\n",
    "                    \n",
    "                    if v not in open_set and v not in closed_set:\n",
    "                        open_set.append(v)\n",
    "                        g_score[v] = new_g\n",
    "                        f_score[v] = new_g + heuristic_cost_estimate(v, dst, grid)\n",
    "                        # merke den knoten wo du stehtst (3, 0)\n",
    "                        \n",
    "                        # besten knoten im \"subtree\"\n",
    "                        # wir wählen den erst Besten (\"<\") aufgrund der weiter benötigten Schritte (wenn kein Ende vorhanden)\n",
    "                        if heuristic_cost_estimate(v, dst, grid) < best_node_cost:\n",
    "                            best_node = v\n",
    "                            best_node_cost = heuristic_cost_estimate(v, dst, grid)\n",
    "                                       \n",
    "                        prev[v] = u\n",
    "                    elif ((v in open_set) or (v in closed_set)) and (new_g < g_score[v]):\n",
    "                        g_score[v] = new_g\n",
    "                        f_score[v] = new_g + heuristic_cost_estimate(v, dst, grid)\n",
    "                        prev[v] = u\n",
    "                        \n",
    "                        if v in closed_set:\n",
    "                            open_set.append(v)\n",
    "                            closed_set.remove(v)\n",
    "\n",
    "                        # besten knoten im \"subtree\"\n",
    "                        # wir wählen den erst Besten (\"<\") aufgrund der weiter benötigten Schritte (wenn kein Ende vorhanden)\n",
    "                        if heuristic_cost_estimate(v, dst, grid) < best_node_cost:\n",
    "                            best_node = v\n",
    "                            best_node_cost = heuristic_cost_estimate(v, dst, grid)\n",
    "                    \n",
    "        # Ziel gefunden\n",
    "        if best_node == dst and tiles[grid.get_value(dst[0],dst[1])][1] == 1:      \n",
    "            print(tiles[grid.get_value(dst[0],dst[1])][1])\n",
    "            print('Found end')\n",
    "            break\n",
    "\n",
    "        prev_best_node = best_node\n",
    "\n",
    "        if in_game:\n",
    "            # Alle geraden Reihen dann nach rechts\n",
    "            if (best_node[0] % 2 == 0):\n",
    "                grid.off_tile = grid.move_row_right(best_node[0], grid.off_tile)\n",
    "                best_node = grid.move_player_right(best_node) \n",
    "            else: \n",
    "                grid.off_tile = grid.move_row_left(best_node[0], grid.off_tile)\n",
    "                best_node = grid.move_player_left(best_node)\n",
    "\n",
    "            prev[best_node] = prev_best_node\n",
    "        else:\n",
    "            if (best_node[0] % 2 == 0):\n",
    "                grid.off_tile = grid.move_row_right(best_node[0], grid.off_tile)\n",
    "            else: \n",
    "                grid.off_tile = grid.move_row_left(best_node[0], grid.off_tile)\n",
    "        \n",
    "        if tiles[grid.get_value(best_node[0],best_node[1])][3] == 1 and in_game == False:\n",
    "            in_game = True\n",
    "        \n",
    "        open_set = [best_node]\n",
    "\n",
    "        if best_node == dst and (tiles[grid.get_value(best_node[0],best_node[1])][1] == 1):\n",
    "            print(\"Found End\")\n",
    "            break  \n",
    "    \n",
    "    \n",
    "    # Now reconstruct the path if it was found\n",
    "    path = []\n",
    "    if prev[dst] is not None:\n",
    "        current = dst\n",
    "        while current is not None:\n",
    "            path.append(current)\n",
    "            current = prev[current]\n",
    "        path = path[::-1]  # Reverse to get the path from src to dst\n",
    "    \n",
    "    return path\n"
   ]
  },
  {
   "cell_type": "markdown",
   "id": "7a259b6f",
   "metadata": {},
   "source": [
    "- Start nach unten: wenn kein Spielstein nach unten dann reihe drüber überprüfen ob ein Stein mit nach unten und diesen dann herausschieben und vewenden als Start \"Stein\"\n",
    "- Reihe in der der Spieler steht: wenn kein Spielstein nach oben, dann in reihe drüber prüfen ob stein nach oben, wenn ja dann Stein herausschieben und vewenden\n",
    "- Reihe über dem Spieler: wenn kein Spielstein nach unten, dann in anderer Reihe "
   ]
  },
  {
   "cell_type": "code",
   "execution_count": 8,
   "id": "f2f098d5",
   "metadata": {},
   "outputs": [
    {
     "name": "stdout",
     "output_type": "stream",
     "text": [
      "Found end\n",
      "1\n",
      "Found end\n"
     ]
    }
   ],
   "source": [
    "\n",
    "optimal_path = a_star(spielfeld_grid)"
   ]
  },
  {
   "cell_type": "markdown",
   "id": "69a0d661",
   "metadata": {},
   "source": [
    "## Grafische Ausgabe"
   ]
  },
  {
   "cell_type": "code",
   "execution_count": 9,
   "id": "77a818bb",
   "metadata": {},
   "outputs": [],
   "source": [
    "string_map = {\n",
    "    0: \"┌\",\n",
    "    1: \"┐\",\n",
    "    2: \"└\",\n",
    "    3: \"┘\",\n",
    "    4: \"┬\",\n",
    "    5: \"┤\",\n",
    "    6: \"┴\",\n",
    "    7: \"├\",\n",
    "    8: \"|\",\n",
    "    9: \"-\",\n",
    "}"
   ]
  },
  {
   "cell_type": "code",
   "execution_count": 10,
   "id": "bb2a12bf",
   "metadata": {},
   "outputs": [
    {
     "name": "stdout",
     "output_type": "stream",
     "text": [
      "  |      \n",
      "  ┤      \n",
      "  ├      \n",
      "  ┤      \n",
      "┌ ┘ └ ┘  \n"
     ]
    }
   ],
   "source": [
    "def create_path_matrix(path, rows, cols, grid: Grid):\n",
    "    optimal_path_matrix = [[' ' for _ in range(cols)] for _ in range(rows)]\n",
    "\n",
    "    for node in path:\n",
    "        y, x = node\n",
    "        optimal_path_matrix[y][x] = string_map[grid.get_value(y,x)]  # Mark the cell in the path\n",
    "\n",
    "    return optimal_path_matrix\n",
    "\n",
    "path_matrix = create_path_matrix(optimal_path, spielfeld_grid.rows, spielfeld_grid.rows, spielfeld_grid)\n",
    "\n",
    "# Gib die Matrix aus\n",
    "for row in path_matrix:\n",
    "    print(' '.join(row))\n"
   ]
  },
  {
   "cell_type": "code",
   "execution_count": 11,
   "id": "af89d4d7",
   "metadata": {},
   "outputs": [
    {
     "name": "stdout",
     "output_type": "stream",
     "text": [
      "[2, 8, 4, 7]\n",
      "[1, 5, 6, 1]\n",
      "[0, 7, 2, 9]\n",
      "[6, 5, 5, 9]\n",
      "[3, 4, 0, 3]\n",
      "---\n",
      "└ | ┬ ├\n",
      "┐ ┤ ┴ ┐\n",
      "┌ ├ └ -\n",
      "┴ ┤ ┤ -\n",
      "┘ ┬ ┌ ┘\n"
     ]
    }
   ],
   "source": [
    "# Create a matrix of strings\n",
    "matrix = [[int(num) if num != '' else None for num in row] for row in spielfeld[:-1]]\n",
    "\n",
    "# Display the matrix\n",
    "for row in matrix:\n",
    "    print(row)\n",
    "\n",
    "string_matrix = [[string_map[num] for num in row] for row in matrix]\n",
    "\n",
    "print(\"---\")\n",
    "# Display the string matrix\n",
    "for row in string_matrix:\n",
    "    print(\" \".join(row))"
   ]
  },
  {
   "cell_type": "markdown",
   "id": "1ff35b9447f59883",
   "metadata": {
    "collapsed": false
   },
   "source": [
    "3. A* anhand lösbarem Beispiel\n",
    "\n",
    "- checken grenzen\n",
    "    - wenn laufen nicht möglich, dann schieben\n",
    "        \n",
    "- verschieben  \n",
    "    - Zeile über Spielfigur in möglich Richtung\n",
    "    \n",
    "- checken funktion/algo\n",
    "- Listen führen: Open/Close\n",
    "\n",
    "- Heuristik:\n",
    "    - 1 Schritt = +1\n",
    "    - 1 Verschieben = +1\n",
    "    - Heuristischer wert = Schritte bis zum Ziel\n",
    "        -   ABER wenn nicht Öffnung nach oben +2\n",
    "\n",
    "WAS TUN BEI GLEICHSTAND?\n",
    "AB WANN VERSCHIEBEN (auch wenn laufen möglich)\n",
    "\n",
    "- jeden möglichen weg berechnen\n",
    "- jeden möglichen weg nach verschiebungen"
   ]
  }
 ],
 "metadata": {
  "kernelspec": {
   "display_name": "Python 3",
   "language": "python",
   "name": "python3"
  },
  "language_info": {
   "codemirror_mode": {
    "name": "ipython",
    "version": 3
   },
   "file_extension": ".py",
   "mimetype": "text/x-python",
   "name": "python",
   "nbconvert_exporter": "python",
   "pygments_lexer": "ipython3",
   "version": "3.12.0"
  }
 },
 "nbformat": 4,
 "nbformat_minor": 5
}

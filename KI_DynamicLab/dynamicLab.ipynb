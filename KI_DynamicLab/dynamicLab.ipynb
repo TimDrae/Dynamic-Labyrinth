{
 "cells": [
  {
   "cell_type": "markdown",
   "id": "59c7a77486b22030",
   "metadata": {
    "collapsed": false
   },
   "source": [
    "# Dynamisches Labyrinth"
   ]
  },
  {
   "cell_type": "markdown",
   "id": "ab31de86360492a7",
   "metadata": {
    "collapsed": false
   },
   "source": [
    "## TODOS"
   ]
  },
  {
   "cell_type": "markdown",
   "id": "5a8cdae98f8dff63",
   "metadata": {
    "collapsed": false
   },
   "source": [
    "1. CSV einlesen"
   ]
  },
  {
   "cell_type": "code",
   "outputs": [
    {
     "name": "stdout",
     "output_type": "stream",
     "text": [
      "2\n"
     ]
    }
   ],
   "source": [
    "import csv\n",
    "\n",
    "# Pfad zur CSV-Datei\n",
    "csv_datei_pfad = 'Spielbrett_Matrix.csv'\n",
    "\n",
    "# Liste zum Speichern der Daten\n",
    "daten = []\n",
    "\n",
    "# CSV-Datei öffnen und Daten einlesen\n",
    "with open(csv_datei_pfad, 'r') as csv_datei:\n",
    "    csv_reader = csv.reader(csv_datei)\n",
    "    \n",
    "    # Zeile für Zeile durch die CSV-Datei iterieren\n",
    "    for zeile in csv_reader:\n",
    "        daten.append(zeile)\n",
    "\n",
    "# Die 'daten'-Liste enthält nun die Daten aus der CSV-Datei\n",
    "print(daten[0][0][0])"
   ],
   "metadata": {
    "collapsed": false,
    "ExecuteTime": {
     "end_time": "2024-01-05T08:54:44.786091300Z",
     "start_time": "2024-01-05T08:54:44.750926400Z"
    }
   },
   "id": "e975b0cef9bef6ae",
   "execution_count": 6
  },
  {
   "cell_type": "markdown",
   "id": "ebbe660a6964b1e",
   "metadata": {
    "collapsed": false
   },
   "source": [
    "## 2. Spielsteine definieren"
   ]
  },
  {
   "cell_type": "markdown",
   "id": "0f7dbeae",
   "metadata": {},
   "source": [
    "Erklärung: Es gibt 10 verschiedene Spielsteine die angeben, in welche Richtung der Spieler sich bewegen und nicht bewegen kann. Dabei werden die verschiedenen Spielsteine in einer\n",
    "- Matrix von 0 - 9 dargestellt und\n",
    "- jeder Spielstein erhält zudem eine 2x2 Matrix der die möglichen Richtungen angibt. \n",
    "\n",
    "Dabei gilt folgendes: [ left, top, right, bottom] wobei eine 1 für eine Verbindung und eine 0 für keine Verbindung steht zum nächsten Feld steht. Als Beipsiel, [0, 0, 1, 1] steht für [-, -, right, bottom], also ist dieser Spielstein eine Ecke die eine Verbindung von unten nach rechts besitzt."
   ]
  },
  {
   "cell_type": "code",
   "execution_count": 50,
   "id": "065c8323",
   "metadata": {},
   "outputs": [],
   "source": [
    "# [ left, top, right, bottom]\n",
    "tile0 = [0, 0, 1, 1]\n",
    "tile1 = [1, 0, 0, 1]\n",
    "tile2 = [0, 1, 1, 0]\n",
    "tile3 = [1, 1, 0, 0]\n",
    "tile4 = [1, 0, 1, 1]\n",
    "tile5 = [1, 1, 0, 1]\n",
    "tile6 = [1, 1, 1, 0]\n",
    "tile7 = [0, 1, 1, 1]\n",
    "tile8 = [0, 1, 0, 1]\n",
    "tile9 = [1, 0, 1, 0]"
   ]
  },
  {
   "cell_type": "code",
   "execution_count": 51,
   "id": "fdb08fd6843b9fbb",
   "metadata": {
    "collapsed": false
   },
   "outputs": [],
   "source": [
    "# Kodierung für das Spielfeld\n",
    "tiles = [tile0, tile1, tile2, tile3, tile4, tile5, tile6, tile8, tile9]\n",
    "\n",
    "# Beispiel\n",
    "# Spielfield hat bei 0;0 die Zahl 0, dadurch ergibt sich tiles[0] => [0, 0, 1, 1]\n",
    "# print(tiles[0])"
   ]
  },
  {
   "cell_type": "markdown",
   "id": "69a0d661",
   "metadata": {},
   "source": [
    "## Grafische Ausgabe"
   ]
  },
  {
   "cell_type": "code",
   "execution_count": 52,
   "id": "267c2abe",
   "metadata": {},
   "outputs": [],
   "source": [
    "matrix = [\n",
    "    [2, 8, 0, 7],\n",
    "    [1, 5, 8, 1],\n",
    "    [0, 7, 7, 1],\n",
    "    [6, 5, 5, 5],\n",
    "    [4, 4, 6, 6]\n",
    "]"
   ]
  },
  {
   "cell_type": "code",
   "execution_count": 53,
   "id": "77a818bb",
   "metadata": {},
   "outputs": [],
   "source": [
    "string_map = {\n",
    "    0: \"┌\",\n",
    "    1: \"┐\",\n",
    "    2: \"└\",\n",
    "    3: \"┘\",\n",
    "    4: \"┬\",\n",
    "    5: \"┤\",\n",
    "    6: \"┴\",\n",
    "    7: \"├\",\n",
    "    8: \"|\",\n",
    "    9: \"-\",\n",
    "}"
   ]
  },
  {
   "cell_type": "code",
   "execution_count": 58,
   "id": "af89d4d7",
   "metadata": {},
   "outputs": [
    {
     "name": "stdout",
     "output_type": "stream",
     "text": [
      "└ | ┌ ├\n",
      "┐ ┤ | ┐\n",
      "┌ ├ ├ ┐\n",
      "┴ ┤ ┤ ┤\n",
      "┬ ┬ ┴ ┴\n"
     ]
    }
   ],
   "source": [
    "# Create a matrix of strings\n",
    "string_matrix = [[string_map[num] for num in row] for row in matrix]\n",
    "\n",
    "# Display the string matrix\n",
    "for row in string_matrix:\n",
    "    print(\" \".join(row))"
   ]
  },
  {
   "cell_type": "markdown",
   "id": "1ff35b9447f59883",
   "metadata": {
    "collapsed": false
   },
   "source": [
    "3. A* anhand lösbarem Beispiel\n",
    "\n",
    "- checken grenzen\n",
    "    - wenn laufen nicht möglich, dann schieben\n",
    "        \n",
    "- verschieben  \n",
    "    - Zeile über Spielfigur in möglich Richtung\n",
    "    \n",
    "- checken funktion/algo\n",
    "- Listen führen: Open/Close\n",
    "\n",
    "- Heuristik:\n",
    "    - 1 Schritt = +1\n",
    "    - 1 Verschieben = +1\n",
    "    - Heuristischer wert = Schritte bis zum Ziel\n",
    "        -   ABER wenn nicht Öffnung nach oben +2\n",
    "\n",
    "WAS TUN BEI GLEICHSTAND?\n",
    "AB WANN VERSCHIEBEN (auch wenn laufen möglich)\n",
    "\n",
    "- jeden möglichen weg berechnen\n",
    "- jeden möglichen weg nach verschiebungen"
   ]
  }
 ],
 "metadata": {
  "kernelspec": {
   "display_name": "Python 3",
   "language": "python",
   "name": "python3"
  },
  "language_info": {
   "codemirror_mode": {
    "name": "ipython",
    "version": 3
   },
   "file_extension": ".py",
   "mimetype": "text/x-python",
   "name": "python",
   "nbconvert_exporter": "python",
   "pygments_lexer": "ipython3",
   "version": "3.12.0"
  }
 },
 "nbformat": 4,
 "nbformat_minor": 5
}

{
 "cells": [
  {
   "cell_type": "code",
   "execution_count": null,
   "id": "initial_id",
   "metadata": {
    "collapsed": true
   },
   "outputs": [],
   "source": []
  },
  {
   "cell_type": "markdown",
   "source": [
    "# Dynamisches Labyrinth"
   ],
   "metadata": {
    "collapsed": false
   },
   "id": "59c7a77486b22030"
  },
  {
   "cell_type": "markdown",
   "source": [
    "## TODOS"
   ],
   "metadata": {
    "collapsed": false
   },
   "id": "ab31de86360492a7"
  },
  {
   "cell_type": "markdown",
   "source": [
    "1. CSV einlesen"
   ],
   "metadata": {
    "collapsed": false
   },
   "id": "5a8cdae98f8dff63"
  },
  {
   "cell_type": "code",
   "outputs": [
    {
     "name": "stdout",
     "output_type": "stream",
     "text": [
      "2\n"
     ]
    }
   ],
   "source": [
    "import csv\n",
    "\n",
    "# Pfad zur CSV-Datei\n",
    "csv_datei_pfad = 'Spielbrett_Matrix.csv'\n",
    "\n",
    "# Liste zum Speichern der Daten\n",
    "daten = []\n",
    "\n",
    "# CSV-Datei öffnen und Daten einlesen\n",
    "with open(csv_datei_pfad, 'r') as csv_datei:\n",
    "    csv_reader = csv.reader(csv_datei)\n",
    "    \n",
    "    # Zeile für Zeile durch die CSV-Datei iterieren\n",
    "    for zeile in csv_reader:\n",
    "        daten.append(zeile)\n",
    "\n",
    "# Die 'daten'-Liste enthält nun die Daten aus der CSV-Datei\n",
    "print(daten[0][0][0])"
   ],
   "metadata": {
    "collapsed": false,
    "ExecuteTime": {
     "end_time": "2024-01-05T08:54:44.786091300Z",
     "start_time": "2024-01-05T08:54:44.750926400Z"
    }
   },
   "id": "e975b0cef9bef6ae",
   "execution_count": 6
  },
  {
   "cell_type": "markdown",
   "source": [
    "2. Spielsteine definieren"
   ],
   "metadata": {
    "collapsed": false
   },
   "id": "ebbe660a6964b1e"
  },
  {
   "cell_type": "code",
   "outputs": [],
   "source": [],
   "metadata": {
    "collapsed": false
   },
   "id": "fdb08fd6843b9fbb"
  },
  {
   "cell_type": "markdown",
   "source": [
    "3. A* anhand lösbarem Beispiel\n",
    "\n",
    "- checken grenzen\n",
    "    - wenn laufen nicht möglich, dann schieben\n",
    "        \n",
    "- verschieben  \n",
    "    - Zeile über Spielfigur in möglich Richtung\n",
    "    \n",
    "- checken funktion/algo\n",
    "- Listen führen: Open/Close\n",
    "\n",
    "- Heuristik:\n",
    "    - 1 Schritt = +1\n",
    "    - 1 Verschieben = +1\n",
    "    - Heuristischer wert = Schritte bis zum Ziel\n",
    "        -   ABER wenn nicht Öffnung nach oben +2\n",
    "\n",
    "WAS TUN BEI GLEICHSTAND?\n",
    "AB WANN VERSCHIEBEN (auch wenn laufen möglich)\n",
    "\n",
    "- jeden möglichen weg berechnen\n",
    "- jeden möglichen weg nach verschiebungen"
   ],
   "metadata": {
    "collapsed": false
   },
   "id": "1ff35b9447f59883"
  }
 ],
 "metadata": {
  "kernelspec": {
   "display_name": "Python 3",
   "language": "python",
   "name": "python3"
  },
  "language_info": {
   "codemirror_mode": {
    "name": "ipython",
    "version": 2
   },
   "file_extension": ".py",
   "mimetype": "text/x-python",
   "name": "python",
   "nbconvert_exporter": "python",
   "pygments_lexer": "ipython2",
   "version": "2.7.6"
  }
 },
 "nbformat": 4,
 "nbformat_minor": 5
}
